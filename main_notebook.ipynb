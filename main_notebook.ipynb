{
 "cells": [
  {
   "cell_type": "code",
   "execution_count": 9,
   "id": "e3904a83",
   "metadata": {},
   "outputs": [],
   "source": [
    "import numpy as np \n",
    "import pandas as pd \n",
    "import matplotlib.pyplot as plt\n",
    "import seaborn as sns\n"
   ]
  },
  {
   "cell_type": "code",
   "execution_count": 10,
   "id": "d2f97866",
   "metadata": {},
   "outputs": [
    {
     "data": {
      "application/vnd.microsoft.datawrangler.viewer.v0+json": {
       "columns": [
        {
         "name": "index",
         "rawType": "int64",
         "type": "integer"
        },
        {
         "name": "Student_ID",
         "rawType": "object",
         "type": "string"
        },
        {
         "name": "Gender",
         "rawType": "object",
         "type": "string"
        },
        {
         "name": "Study_Hours_per_Week",
         "rawType": "int64",
         "type": "integer"
        },
        {
         "name": "Attendance_Rate",
         "rawType": "float64",
         "type": "float"
        },
        {
         "name": "Past_Exam_Scores",
         "rawType": "int64",
         "type": "integer"
        },
        {
         "name": "Parental_Education_Level",
         "rawType": "object",
         "type": "string"
        },
        {
         "name": "Internet_Access_at_Home",
         "rawType": "object",
         "type": "string"
        },
        {
         "name": "Extracurricular_Activities",
         "rawType": "object",
         "type": "string"
        },
        {
         "name": "Final_Exam_Score",
         "rawType": "int64",
         "type": "integer"
        },
        {
         "name": "Pass_Fail",
         "rawType": "object",
         "type": "string"
        }
       ],
       "ref": "7006c7df-5db3-4319-885a-2201c5674874",
       "rows": [
        [
         "0",
         "S147",
         "Male",
         "31",
         "68.26784098370288",
         "86",
         "High School",
         "Yes",
         "Yes",
         "63",
         "Pass"
        ],
        [
         "1",
         "S136",
         "Male",
         "16",
         "78.22292712613206",
         "73",
         "PhD",
         "No",
         "No",
         "50",
         "Fail"
        ],
        [
         "2",
         "S209",
         "Female",
         "21",
         "87.52509623826568",
         "74",
         "PhD",
         "Yes",
         "No",
         "55",
         "Fail"
        ],
        [
         "3",
         "S458",
         "Female",
         "27",
         "92.07648301550216",
         "99",
         "Bachelors",
         "No",
         "No",
         "65",
         "Pass"
        ],
        [
         "4",
         "S078",
         "Female",
         "37",
         "98.65551746350522",
         "63",
         "Masters",
         "No",
         "Yes",
         "70",
         "Pass"
        ]
       ],
       "shape": {
        "columns": 10,
        "rows": 5
       }
      },
      "text/html": [
       "<div>\n",
       "<style scoped>\n",
       "    .dataframe tbody tr th:only-of-type {\n",
       "        vertical-align: middle;\n",
       "    }\n",
       "\n",
       "    .dataframe tbody tr th {\n",
       "        vertical-align: top;\n",
       "    }\n",
       "\n",
       "    .dataframe thead th {\n",
       "        text-align: right;\n",
       "    }\n",
       "</style>\n",
       "<table border=\"1\" class=\"dataframe\">\n",
       "  <thead>\n",
       "    <tr style=\"text-align: right;\">\n",
       "      <th></th>\n",
       "      <th>Student_ID</th>\n",
       "      <th>Gender</th>\n",
       "      <th>Study_Hours_per_Week</th>\n",
       "      <th>Attendance_Rate</th>\n",
       "      <th>Past_Exam_Scores</th>\n",
       "      <th>Parental_Education_Level</th>\n",
       "      <th>Internet_Access_at_Home</th>\n",
       "      <th>Extracurricular_Activities</th>\n",
       "      <th>Final_Exam_Score</th>\n",
       "      <th>Pass_Fail</th>\n",
       "    </tr>\n",
       "  </thead>\n",
       "  <tbody>\n",
       "    <tr>\n",
       "      <th>0</th>\n",
       "      <td>S147</td>\n",
       "      <td>Male</td>\n",
       "      <td>31</td>\n",
       "      <td>68.267841</td>\n",
       "      <td>86</td>\n",
       "      <td>High School</td>\n",
       "      <td>Yes</td>\n",
       "      <td>Yes</td>\n",
       "      <td>63</td>\n",
       "      <td>Pass</td>\n",
       "    </tr>\n",
       "    <tr>\n",
       "      <th>1</th>\n",
       "      <td>S136</td>\n",
       "      <td>Male</td>\n",
       "      <td>16</td>\n",
       "      <td>78.222927</td>\n",
       "      <td>73</td>\n",
       "      <td>PhD</td>\n",
       "      <td>No</td>\n",
       "      <td>No</td>\n",
       "      <td>50</td>\n",
       "      <td>Fail</td>\n",
       "    </tr>\n",
       "    <tr>\n",
       "      <th>2</th>\n",
       "      <td>S209</td>\n",
       "      <td>Female</td>\n",
       "      <td>21</td>\n",
       "      <td>87.525096</td>\n",
       "      <td>74</td>\n",
       "      <td>PhD</td>\n",
       "      <td>Yes</td>\n",
       "      <td>No</td>\n",
       "      <td>55</td>\n",
       "      <td>Fail</td>\n",
       "    </tr>\n",
       "    <tr>\n",
       "      <th>3</th>\n",
       "      <td>S458</td>\n",
       "      <td>Female</td>\n",
       "      <td>27</td>\n",
       "      <td>92.076483</td>\n",
       "      <td>99</td>\n",
       "      <td>Bachelors</td>\n",
       "      <td>No</td>\n",
       "      <td>No</td>\n",
       "      <td>65</td>\n",
       "      <td>Pass</td>\n",
       "    </tr>\n",
       "    <tr>\n",
       "      <th>4</th>\n",
       "      <td>S078</td>\n",
       "      <td>Female</td>\n",
       "      <td>37</td>\n",
       "      <td>98.655517</td>\n",
       "      <td>63</td>\n",
       "      <td>Masters</td>\n",
       "      <td>No</td>\n",
       "      <td>Yes</td>\n",
       "      <td>70</td>\n",
       "      <td>Pass</td>\n",
       "    </tr>\n",
       "  </tbody>\n",
       "</table>\n",
       "</div>"
      ],
      "text/plain": [
       "  Student_ID  Gender  Study_Hours_per_Week  Attendance_Rate  Past_Exam_Scores  \\\n",
       "0       S147    Male                    31        68.267841                86   \n",
       "1       S136    Male                    16        78.222927                73   \n",
       "2       S209  Female                    21        87.525096                74   \n",
       "3       S458  Female                    27        92.076483                99   \n",
       "4       S078  Female                    37        98.655517                63   \n",
       "\n",
       "  Parental_Education_Level Internet_Access_at_Home Extracurricular_Activities  \\\n",
       "0              High School                     Yes                        Yes   \n",
       "1                      PhD                      No                         No   \n",
       "2                      PhD                     Yes                         No   \n",
       "3                Bachelors                      No                         No   \n",
       "4                  Masters                      No                        Yes   \n",
       "\n",
       "   Final_Exam_Score Pass_Fail  \n",
       "0                63      Pass  \n",
       "1                50      Fail  \n",
       "2                55      Fail  \n",
       "3                65      Pass  \n",
       "4                70      Pass  "
      ]
     },
     "execution_count": 10,
     "metadata": {},
     "output_type": "execute_result"
    }
   ],
   "source": [
    "data=pd.read_csv(r\"D:\\ADV_machineLearning\\Student_performance_LR\\student_performance_dataset.csv\")\n",
    "data.head()"
   ]
  },
  {
   "cell_type": "code",
   "execution_count": 11,
   "id": "353996d3",
   "metadata": {},
   "outputs": [
    {
     "name": "stdout",
     "output_type": "stream",
     "text": [
      "<class 'pandas.core.frame.DataFrame'>\n",
      "RangeIndex: 708 entries, 0 to 707\n",
      "Data columns (total 10 columns):\n",
      " #   Column                      Non-Null Count  Dtype  \n",
      "---  ------                      --------------  -----  \n",
      " 0   Student_ID                  708 non-null    object \n",
      " 1   Gender                      708 non-null    object \n",
      " 2   Study_Hours_per_Week        708 non-null    int64  \n",
      " 3   Attendance_Rate             708 non-null    float64\n",
      " 4   Past_Exam_Scores            708 non-null    int64  \n",
      " 5   Parental_Education_Level    708 non-null    object \n",
      " 6   Internet_Access_at_Home     708 non-null    object \n",
      " 7   Extracurricular_Activities  708 non-null    object \n",
      " 8   Final_Exam_Score            708 non-null    int64  \n",
      " 9   Pass_Fail                   708 non-null    object \n",
      "dtypes: float64(1), int64(3), object(6)\n",
      "memory usage: 55.4+ KB\n"
     ]
    }
   ],
   "source": [
    "data.info()"
   ]
  },
  {
   "cell_type": "code",
   "execution_count": 12,
   "id": "2417300d",
   "metadata": {},
   "outputs": [
    {
     "data": {
      "application/vnd.microsoft.datawrangler.viewer.v0+json": {
       "columns": [
        {
         "name": "index",
         "rawType": "object",
         "type": "string"
        },
        {
         "name": "0",
         "rawType": "int64",
         "type": "integer"
        }
       ],
       "ref": "9ac1c5f6-1c09-43a5-a5f3-e3706717e5b0",
       "rows": [
        [
         "Student_ID",
         "0"
        ],
        [
         "Gender",
         "0"
        ],
        [
         "Study_Hours_per_Week",
         "0"
        ],
        [
         "Attendance_Rate",
         "0"
        ],
        [
         "Past_Exam_Scores",
         "0"
        ],
        [
         "Parental_Education_Level",
         "0"
        ],
        [
         "Internet_Access_at_Home",
         "0"
        ],
        [
         "Extracurricular_Activities",
         "0"
        ],
        [
         "Final_Exam_Score",
         "0"
        ],
        [
         "Pass_Fail",
         "0"
        ]
       ],
       "shape": {
        "columns": 1,
        "rows": 10
       }
      },
      "text/plain": [
       "Student_ID                    0\n",
       "Gender                        0\n",
       "Study_Hours_per_Week          0\n",
       "Attendance_Rate               0\n",
       "Past_Exam_Scores              0\n",
       "Parental_Education_Level      0\n",
       "Internet_Access_at_Home       0\n",
       "Extracurricular_Activities    0\n",
       "Final_Exam_Score              0\n",
       "Pass_Fail                     0\n",
       "dtype: int64"
      ]
     },
     "execution_count": 12,
     "metadata": {},
     "output_type": "execute_result"
    }
   ],
   "source": [
    "data.isnull().sum()"
   ]
  },
  {
   "cell_type": "code",
   "execution_count": 13,
   "id": "60003dae",
   "metadata": {},
   "outputs": [
    {
     "data": {
      "application/vnd.microsoft.datawrangler.viewer.v0+json": {
       "columns": [
        {
         "name": "index",
         "rawType": "object",
         "type": "string"
        },
        {
         "name": "Study_Hours_per_Week",
         "rawType": "float64",
         "type": "float"
        },
        {
         "name": "Attendance_Rate",
         "rawType": "float64",
         "type": "float"
        },
        {
         "name": "Past_Exam_Scores",
         "rawType": "float64",
         "type": "float"
        },
        {
         "name": "Final_Exam_Score",
         "rawType": "float64",
         "type": "float"
        }
       ],
       "ref": "84ff08a1-7a14-411b-92fe-ecbba0fdb25d",
       "rows": [
        [
         "count",
         "708.0",
         "708.0",
         "708.0",
         "708.0"
        ],
        [
         "mean",
         "26.13276836158192",
         "78.10772200742244",
         "77.87146892655367",
         "58.771186440677965"
        ],
        [
         "std",
         "8.877726668339886",
         "13.802801882804394",
         "14.40273939016608",
         "6.7058770275915025"
        ],
        [
         "min",
         "10.0",
         "50.11696953128892",
         "50.0",
         "50.0"
        ],
        [
         "25%",
         "19.0",
         "67.55009353064986",
         "65.0",
         "52.0"
        ],
        [
         "50%",
         "27.0",
         "79.36304570926603",
         "79.0",
         "59.5"
        ],
        [
         "75%",
         "34.0",
         "89.50423185620434",
         "91.0",
         "64.0"
        ],
        [
         "max",
         "39.0",
         "99.96767497829174",
         "100.0",
         "77.0"
        ]
       ],
       "shape": {
        "columns": 4,
        "rows": 8
       }
      },
      "text/html": [
       "<div>\n",
       "<style scoped>\n",
       "    .dataframe tbody tr th:only-of-type {\n",
       "        vertical-align: middle;\n",
       "    }\n",
       "\n",
       "    .dataframe tbody tr th {\n",
       "        vertical-align: top;\n",
       "    }\n",
       "\n",
       "    .dataframe thead th {\n",
       "        text-align: right;\n",
       "    }\n",
       "</style>\n",
       "<table border=\"1\" class=\"dataframe\">\n",
       "  <thead>\n",
       "    <tr style=\"text-align: right;\">\n",
       "      <th></th>\n",
       "      <th>Study_Hours_per_Week</th>\n",
       "      <th>Attendance_Rate</th>\n",
       "      <th>Past_Exam_Scores</th>\n",
       "      <th>Final_Exam_Score</th>\n",
       "    </tr>\n",
       "  </thead>\n",
       "  <tbody>\n",
       "    <tr>\n",
       "      <th>count</th>\n",
       "      <td>708.000000</td>\n",
       "      <td>708.000000</td>\n",
       "      <td>708.000000</td>\n",
       "      <td>708.000000</td>\n",
       "    </tr>\n",
       "    <tr>\n",
       "      <th>mean</th>\n",
       "      <td>26.132768</td>\n",
       "      <td>78.107722</td>\n",
       "      <td>77.871469</td>\n",
       "      <td>58.771186</td>\n",
       "    </tr>\n",
       "    <tr>\n",
       "      <th>std</th>\n",
       "      <td>8.877727</td>\n",
       "      <td>13.802802</td>\n",
       "      <td>14.402739</td>\n",
       "      <td>6.705877</td>\n",
       "    </tr>\n",
       "    <tr>\n",
       "      <th>min</th>\n",
       "      <td>10.000000</td>\n",
       "      <td>50.116970</td>\n",
       "      <td>50.000000</td>\n",
       "      <td>50.000000</td>\n",
       "    </tr>\n",
       "    <tr>\n",
       "      <th>25%</th>\n",
       "      <td>19.000000</td>\n",
       "      <td>67.550094</td>\n",
       "      <td>65.000000</td>\n",
       "      <td>52.000000</td>\n",
       "    </tr>\n",
       "    <tr>\n",
       "      <th>50%</th>\n",
       "      <td>27.000000</td>\n",
       "      <td>79.363046</td>\n",
       "      <td>79.000000</td>\n",
       "      <td>59.500000</td>\n",
       "    </tr>\n",
       "    <tr>\n",
       "      <th>75%</th>\n",
       "      <td>34.000000</td>\n",
       "      <td>89.504232</td>\n",
       "      <td>91.000000</td>\n",
       "      <td>64.000000</td>\n",
       "    </tr>\n",
       "    <tr>\n",
       "      <th>max</th>\n",
       "      <td>39.000000</td>\n",
       "      <td>99.967675</td>\n",
       "      <td>100.000000</td>\n",
       "      <td>77.000000</td>\n",
       "    </tr>\n",
       "  </tbody>\n",
       "</table>\n",
       "</div>"
      ],
      "text/plain": [
       "       Study_Hours_per_Week  Attendance_Rate  Past_Exam_Scores  \\\n",
       "count            708.000000       708.000000        708.000000   \n",
       "mean              26.132768        78.107722         77.871469   \n",
       "std                8.877727        13.802802         14.402739   \n",
       "min               10.000000        50.116970         50.000000   \n",
       "25%               19.000000        67.550094         65.000000   \n",
       "50%               27.000000        79.363046         79.000000   \n",
       "75%               34.000000        89.504232         91.000000   \n",
       "max               39.000000        99.967675        100.000000   \n",
       "\n",
       "       Final_Exam_Score  \n",
       "count        708.000000  \n",
       "mean          58.771186  \n",
       "std            6.705877  \n",
       "min           50.000000  \n",
       "25%           52.000000  \n",
       "50%           59.500000  \n",
       "75%           64.000000  \n",
       "max           77.000000  "
      ]
     },
     "execution_count": 13,
     "metadata": {},
     "output_type": "execute_result"
    }
   ],
   "source": [
    "data.describe()"
   ]
  },
  {
   "cell_type": "code",
   "execution_count": 14,
   "id": "5cf27eb7",
   "metadata": {},
   "outputs": [
    {
     "name": "stdout",
     "output_type": "stream",
     "text": [
      "Student_ID: ['S147' 'S136' 'S209' 'S458' 'S078' 'S417' 'S302' 'S009' 'S044' 'S331'\n",
      " 'S451' 'S059' 'S315' 'S295' 'S141' 'S274' 'S327' 'S413' 'S452' 'S386'\n",
      " 'S079' 'S375' 'S384' 'S207' 'S071' 'S489' 'S066' 'S018' 'S015' 'S155'\n",
      " 'S159' 'S368' 'S104' 'S329' 'S397' 'S097' 'S112' 'S370' 'S463' 'S060'\n",
      " 'S041' 'S216' 'S430' 'S377' 'S187' 'S233' 'S166' 'S419' 'S033' 'S185'\n",
      " 'S057' 'S372' 'S395' 'S211' 'S361' 'S382' 'S389' 'S387' 'S380' 'S020'\n",
      " 'S445' 'S099' 'S448' 'S408' 'S089' 'S049' 'S194' 'S121' 'S362' 'S322'\n",
      " 'S499' 'S251' 'S314' 'S200' 'S399' 'S072' 'S162' 'S440' 'S139' 'S449'\n",
      " 'S108' 'S476' 'S068' 'S178' 'S406' 'S340' 'S379' 'S246' 'S164' 'S008'\n",
      " 'S051' 'S142' 'S394' 'S045' 'S013' 'S085' 'S300' 'S438' 'S439' 'S012'\n",
      " 'S366' 'S180' 'S486' 'S431' 'S160' 'S353' 'S265' 'S152' 'S259' 'S429'\n",
      " 'S014' 'S482' 'S297' 'S055' 'S280' 'S034' 'S494' 'S163' 'S433' 'S028'\n",
      " 'S328' 'S355' 'S225' 'S213' 'S435' 'S271' 'S365' 'S186' 'S284' 'S019'\n",
      " 'S143' 'S299' 'S090' 'S214' 'S369' 'S402' 'S344' 'S480' 'S279' 'S262'\n",
      " 'S086' 'S061' 'S305' 'S414' 'S228' 'S335' 'S074' 'S459' 'S493' 'S367'\n",
      " 'S403' 'S035' 'S119' 'S003' 'S261' 'S264' 'S478' 'S465' 'S326' 'S298'\n",
      " 'S253' 'S223' 'S189' 'S124' 'S024' 'S457' 'S487' 'S130' 'S330' 'S381'\n",
      " 'S101' 'S016' 'S023' 'S091' 'S032' 'S043' 'S277' 'S268' 'S021' 'S197'\n",
      " 'S291' 'S263' 'S342' 'S324' 'S120' 'S333' 'S077' 'S092' 'S339' 'S084'\n",
      " 'S258' 'S477' 'S229' 'S237' 'S047' 'S416' 'S428' 'S252' 'S222' 'S390'\n",
      " 'S042' 'S332' 'S235' 'S345' 'S190' 'S349' 'S409' 'S341' 'S156' 'S241'\n",
      " 'S011' 'S313' 'S126' 'S221' 'S192' 'S496' 'S017' 'S175' 'S232' 'S138'\n",
      " 'S254' 'S469' 'S027' 'S360' 'S432' 'S038' 'S154' 'S484' 'S146' 'S294'\n",
      " 'S283' 'S488' 'S434' 'S039' 'S498' 'S234' 'S073' 'S031' 'S125' 'S410'\n",
      " 'S053' 'S351' 'S391' 'S257' 'S181' 'S165' 'S461' 'S354' 'S446' 'S447'\n",
      " 'S455' 'S278' 'S094' 'S226' 'S069' 'S450' 'S026' 'S224' 'S356' 'S321'\n",
      " 'S188' 'S083' 'S240' 'S095' 'S289' 'S115' 'S325' 'S172' 'S441' 'S198'\n",
      " 'S103' 'S282' 'S116' 'S436' 'S460' 'S338' 'S244' 'S048' 'S006' 'S052'\n",
      " 'S470' 'S316' 'S191' 'S347' 'S127' 'S151' 'S157' 'S285' 'S310' 'S270'\n",
      " 'S219' 'S173' 'S145' 'S249' 'S304' 'S371' 'S140' 'S423' 'S001' 'S412'\n",
      " 'S056' 'S030' 'S113' 'S150' 'S218' 'S111' 'S248' 'S067' 'S481' 'S239'\n",
      " 'S238' 'S096' 'S474' 'S495' 'S106' 'S319' 'S088' 'S286' 'S158' 'S466'\n",
      " 'S444' 'S376' 'S415' 'S247' 'S392' 'S169' 'S398' 'S065' 'S255' 'S293'\n",
      " 'S202' 'S491' 'S236' 'S364' 'S437' 'S063' 'S290' 'S464' 'S201' 'S133'\n",
      " 'S036' 'S346' 'S122' 'S308' 'S418' 'S080' 'S208' 'S307' 'S029' 'S479'\n",
      " 'S177' 'S424' 'S400' 'S093' 'S076' 'S468' 'S312' 'S148' 'S070' 'S040'\n",
      " 'S467' 'S276' 'S227' 'S393' 'S426' 'S396' 'S411' 'S405' 'S205' 'S050'\n",
      " 'S350' 'S454' 'S025' 'S144' 'S273' 'S421' 'S058' 'S359' 'S082' 'S206'\n",
      " 'S323' 'S383' 'S475' 'S301' 'S230' 'S267' 'S022' 'S287' 'S087' 'S231'\n",
      " 'S373' 'S137' 'S179' 'S217' 'S260' 'S404' 'S348' 'S204' 'S117' 'S114'\n",
      " 'S456' 'S010' 'S184' 'S153' 'S196' 'S422' 'S401' 'S195' 'S337' 'S318'\n",
      " 'S007' 'S490' 'S420' 'S081' 'S378' 'S242' 'S102' 'S110' 'S309' 'S193'\n",
      " 'S388' 'S123' 'S357' 'S256' 'S292' 'S002' 'S243' 'S167' 'S471' 'S311'\n",
      " 'S425' 'S462' 'S168' 'S306' 'S220' 'S250' 'S275' 'S317' 'S182' 'S128'\n",
      " 'S075' 'S245' 'S131' 'S107' 'S062' 'S161' 'S336' 'S266' 'S129' 'S485'\n",
      " 'S037' 'S100' 'S132' 'S054' 'S374' 'S269' 'S210' 'S385' 'S105' 'S497'\n",
      " 'S170' 'S199' 'S183' 'S215' 'S281' 'S427' 'S352' 'S272' 'S443' 'S500'\n",
      " 'S303' 'S363' 'S064' 'S453' 'S005' 'S296' 'S320' 'S343' 'S171' 'S288'\n",
      " 'S174' 'S203' 'S334' 'S098' 'S135' 'S212' 'S134' 'S483' 'S176' 'S004'\n",
      " 'S109' 'S407' 'S472' 'S442' 'S149' 'S118' 'S358' 'S492' 'S473' 'S046']\n",
      "Gender: ['Male' 'Female']\n",
      "Study_Hours_per_Week: [31 16 21 27 37 30 24 34 35 11 25 18 12 32 39 14 36 20 26 38 15 28 29 13\n",
      " 23 22 19 33 10 17]\n",
      "Attendance_Rate: [68.26784098 78.22292713 87.52509624 92.07648302 98.65551746 84.15919282\n",
      " 89.38949444 50.68359824 80.8631856  65.49684631 69.83246865 92.10457075\n",
      " 78.8815977  66.60732063 62.21765777 55.03973015 93.03160089 71.08519673\n",
      " 97.70434683 85.19730676 80.09676978 97.22048628 93.82220379 89.07572409\n",
      " 70.01502445 99.02884001 78.98249672 68.89252746 79.25747662 50.91212407\n",
      " 78.79992089 77.83607924 96.20208796 59.22314357 93.053401   68.86429826\n",
      " 84.35827527 90.26574837 73.71186544 88.44588707 81.96806785 65.80982911\n",
      " 86.60922892 70.31961541 60.08652312 66.6407893  85.92286354 76.48308393\n",
      " 90.81928676 77.4301559  89.82358878 80.15987011 88.69172616 91.25663383\n",
      " 62.6944282  92.40640477 66.79329286 95.53120018 81.66203875 60.25226643\n",
      " 91.85394954 93.41505535 86.07664306 87.08434721 56.43741991 54.55010455\n",
      " 80.30509405 59.11419392 59.80565498 60.63403922 73.6605059  76.82406757\n",
      " 62.41132214 96.64690335 98.72736326 84.88337868 98.75335815 97.93135887\n",
      " 94.98236986 80.52023335 86.02580307 65.72982784 76.86317084 54.36450898\n",
      " 74.23891836 79.37268021 54.34625075 60.22722966 86.14480483 56.69260594\n",
      " 77.37231534 74.91238489 67.25960724 99.02313625 87.49553747 77.43576546\n",
      " 87.21248259 71.10180298 67.69356883 76.71731375 78.47217589 96.60071711\n",
      " 87.95179228 62.53653303 95.86978065 94.87152049 91.33994139 52.78267447\n",
      " 88.59409903 63.32491967 95.65828761 54.33526059 61.36978104 76.1801138\n",
      " 89.50423186 98.39868827 83.49587323 74.53743896 74.71369251 51.1092371\n",
      " 76.75348595 90.03748857 78.87431355 61.7845873  91.90534816 80.74751316\n",
      " 66.96356229 77.44609899 68.72176849 62.05424162 66.51742406 68.96528492\n",
      " 66.50497567 81.68792819 86.04065482 78.288831   76.72279456 84.52801162\n",
      " 95.93752611 78.27541737 76.72117519 53.31179889 70.72522921 56.61381056\n",
      " 76.59287398 67.46934995 84.82507331 92.32039247 52.57979033 94.37302413\n",
      " 99.26836561 54.42041117 55.24345833 69.64947245 79.92213506 79.95146824\n",
      " 98.10493929 67.57700806 77.86526844 80.39471969 72.85001096 76.9890531\n",
      " 54.39340556 54.46021644 93.91103337 58.10069389 86.20516646 82.44114201\n",
      " 64.97979559 86.79523066 79.86390411 86.3060422  60.36138245 66.07913823\n",
      " 65.38886199 95.15755293 79.64814526 61.36754915 62.57212198 92.536373\n",
      " 61.79530173 85.80895374 85.70295999 98.77706578 86.8702603  71.33944527\n",
      " 75.76180274 54.61452931 91.82824066 51.59023407 70.44775885 90.37151259\n",
      " 53.33095562 93.93145577 81.83221608 84.56109288 63.18419013 68.94107828\n",
      " 81.20507721 91.25536657 90.25223338 69.86590577 84.68588037 74.05439742\n",
      " 56.94123867 66.71814057 84.94229266 64.70223396 84.84807312 99.8846308\n",
      " 84.58571986 95.63747314 61.66082058 94.98337226 55.83480321 79.41318785\n",
      " 87.8540601  76.49200116 71.57640716 66.87234169 80.1978936  72.98407564\n",
      " 63.4336241  77.58612976 81.65490317 74.00229835 52.58177389 87.9196207\n",
      " 61.26663989 91.87453945 88.56233343 81.86157899 78.66471891 71.02678893\n",
      " 77.79032907 86.52745684 59.00336362 91.5685745  76.7667782  70.12750218\n",
      " 95.52356392 87.66231104 68.15296061 74.3178741  66.03210961 91.04307366\n",
      " 57.73360704 76.32892333 71.85966982 95.77568386 63.49556112 55.11063321\n",
      " 84.38923585 67.76812259 73.00595795 97.46533985 52.34482339 71.93723377\n",
      " 98.94657178 61.0048607  84.22857739 67.38096072 78.65754246 75.58285068\n",
      " 95.53430991 51.52360764 72.9494494  85.54762394 59.21854603 87.29872628\n",
      " 76.8295323  82.56836055 93.36074905 70.21907508 97.76181564 68.88629737\n",
      " 88.92859695 77.74078043 53.17559148 72.54552237 53.79667052 58.27566587\n",
      " 50.13554497 88.26781405 67.14634321 90.29324434 99.86277674 53.44607697\n",
      " 95.92273625 64.39648082 72.59743006 59.97534637 50.37671816 87.73176459\n",
      " 55.713365   99.4364391  80.37776111 70.2624044  68.8369485  82.25270839\n",
      " 84.88209357 73.81053484 92.22203363 54.39438123 84.14910317 56.65584643\n",
      " 74.69907436 67.07816052 76.06503337 87.07304556 74.77118132 57.84888414\n",
      " 50.26269093 52.20827189 87.99777045 89.02478538 94.71086314 53.86605327\n",
      " 94.83051315 70.63967753 53.41248527 57.05409244 95.02861506 85.70320411\n",
      " 51.71140554 91.92912794 60.97552625 60.45653955 75.11441737 59.31604397\n",
      " 60.2500905  82.33324596 58.336538   79.75244899 88.54556885 81.04028422\n",
      " 56.14053909 67.2191866  99.54647382 86.84112377 89.59089197 74.85059744\n",
      " 78.1982546  73.28500612 91.1291938  61.1924533  91.39704436 96.14801159\n",
      " 74.90825933 89.50067794 88.38897507 74.8732447  88.98793874 74.0572697\n",
      " 93.71588024 79.91430291 51.64233351 74.39049004 79.2383053  89.2334132\n",
      " 85.24627748 86.3047793  69.57410551 91.53272533 55.32893651 68.13789473\n",
      " 60.90115537 59.10535694 86.07982754 86.31985163 53.77516819 74.1877471\n",
      " 87.84995661 96.68459119 56.95580971 74.90453768 72.9673404  70.39922477\n",
      " 67.25413139 52.4047322  75.75868412 56.13884448 55.1546873  60.27899042\n",
      " 61.45126955 67.12621286 63.73658985 55.2123483  67.79957421 77.14246553\n",
      " 90.34250745 68.9386313  75.30519782 79.41533379 50.61015362 73.55327263\n",
      " 55.14907397 96.32247118 67.70733354 87.4808116  76.99213895 53.76795302\n",
      " 72.71339861 92.11570176 55.33496251 53.35877    55.7118963  89.7144725\n",
      " 81.24879935 65.57365856 51.84109338 95.16819063 90.75272142 91.08953184\n",
      " 66.19950306 87.620156   99.31284979 57.3869546  74.0418489  73.65831005\n",
      " 81.23806355 92.03549929 91.98944297 76.99303186 58.27602552 87.478915\n",
      " 85.34902306 76.7518366  53.8882672  79.35341121 86.01012908 81.16662755\n",
      " 73.83097421 93.17590703 85.68912274 55.14580154 62.80077659 51.69395801\n",
      " 79.69415488 73.69849707 70.58306072 57.15639928 73.97910509 76.5632877\n",
      " 52.29306332 50.26500032 73.41159142 97.95373973 67.75521516 81.94746927\n",
      " 79.49779486 54.22585038 79.20997424 64.89797258 98.13246593 71.17984312\n",
      " 89.97685655 82.14627818 61.80582666 99.96767498 60.25387801 70.42591465\n",
      " 68.46152408 95.39330652 51.15113024 57.00092693 63.61509274 95.59262044\n",
      " 88.54929628 65.64274283 80.18607659 75.27539396 67.37067041 56.75006387\n",
      " 78.45407346 65.5722132  63.87935863 76.38238651 98.39970333 92.0219816\n",
      " 86.81235918 68.96142925 89.9891011  50.12975122 79.32677173 59.32024934\n",
      " 77.8871133  97.90853965 85.36150478 91.45821104 53.11706813 75.62288279\n",
      " 50.11696953 54.51684803 92.54087589 69.85819163 93.349688   84.65876057\n",
      " 98.38496941 80.40439248]\n",
      "Past_Exam_Scores: [ 86  73  74  99  63  77  95  78  94  58  81  64  62  71  55  79  93  57\n",
      "  92  69  85  96  66  67  52  91  83  82  88  84  80  56  51  70  97  60\n",
      "  76  68  65  54  89  87  72  75 100  53  61  50  98  90  59]\n",
      "Parental_Education_Level: ['High School' 'PhD' 'Bachelors' 'Masters']\n",
      "Internet_Access_at_Home: ['Yes' 'No']\n",
      "Extracurricular_Activities: ['Yes' 'No']\n",
      "Final_Exam_Score: [63 50 55 65 70 61 57 62 59 77 56 58 64 71 67 54 68 53 66 51 60 52 74 72\n",
      " 69 76 73]\n",
      "Pass_Fail: ['Pass' 'Fail']\n"
     ]
    }
   ],
   "source": [
    "for col in data.columns:\n",
    "    print(f\"{col}: {data[col].unique()}\")"
   ]
  },
  {
   "cell_type": "markdown",
   "id": "7f282306",
   "metadata": {},
   "source": [
    "# Binary Features Encoding"
   ]
  },
  {
   "cell_type": "code",
   "execution_count": 15,
   "id": "ff1c08b4",
   "metadata": {},
   "outputs": [
    {
     "data": {
      "application/vnd.microsoft.datawrangler.viewer.v0+json": {
       "columns": [
        {
         "name": "index",
         "rawType": "int64",
         "type": "integer"
        },
        {
         "name": "Student_ID",
         "rawType": "object",
         "type": "string"
        },
        {
         "name": "Gender",
         "rawType": "int64",
         "type": "integer"
        },
        {
         "name": "Study_Hours_per_Week",
         "rawType": "int64",
         "type": "integer"
        },
        {
         "name": "Attendance_Rate",
         "rawType": "float64",
         "type": "float"
        },
        {
         "name": "Past_Exam_Scores",
         "rawType": "int64",
         "type": "integer"
        },
        {
         "name": "Parental_Education_Level",
         "rawType": "object",
         "type": "string"
        },
        {
         "name": "Internet_Access_at_Home",
         "rawType": "int64",
         "type": "integer"
        },
        {
         "name": "Extracurricular_Activities",
         "rawType": "int64",
         "type": "integer"
        },
        {
         "name": "Final_Exam_Score",
         "rawType": "int64",
         "type": "integer"
        },
        {
         "name": "Pass_Fail",
         "rawType": "int64",
         "type": "integer"
        }
       ],
       "ref": "6de5363e-ce7c-4f70-a55e-4d74bcce1dbb",
       "rows": [
        [
         "0",
         "S147",
         "1",
         "31",
         "68.26784098370288",
         "86",
         "High School",
         "1",
         "1",
         "63",
         "1"
        ],
        [
         "1",
         "S136",
         "1",
         "16",
         "78.22292712613206",
         "73",
         "PhD",
         "0",
         "0",
         "50",
         "0"
        ],
        [
         "2",
         "S209",
         "0",
         "21",
         "87.52509623826568",
         "74",
         "PhD",
         "1",
         "0",
         "55",
         "0"
        ],
        [
         "3",
         "S458",
         "0",
         "27",
         "92.07648301550216",
         "99",
         "Bachelors",
         "0",
         "0",
         "65",
         "1"
        ],
        [
         "4",
         "S078",
         "0",
         "37",
         "98.65551746350522",
         "63",
         "Masters",
         "0",
         "1",
         "70",
         "1"
        ]
       ],
       "shape": {
        "columns": 10,
        "rows": 5
       }
      },
      "text/html": [
       "<div>\n",
       "<style scoped>\n",
       "    .dataframe tbody tr th:only-of-type {\n",
       "        vertical-align: middle;\n",
       "    }\n",
       "\n",
       "    .dataframe tbody tr th {\n",
       "        vertical-align: top;\n",
       "    }\n",
       "\n",
       "    .dataframe thead th {\n",
       "        text-align: right;\n",
       "    }\n",
       "</style>\n",
       "<table border=\"1\" class=\"dataframe\">\n",
       "  <thead>\n",
       "    <tr style=\"text-align: right;\">\n",
       "      <th></th>\n",
       "      <th>Student_ID</th>\n",
       "      <th>Gender</th>\n",
       "      <th>Study_Hours_per_Week</th>\n",
       "      <th>Attendance_Rate</th>\n",
       "      <th>Past_Exam_Scores</th>\n",
       "      <th>Parental_Education_Level</th>\n",
       "      <th>Internet_Access_at_Home</th>\n",
       "      <th>Extracurricular_Activities</th>\n",
       "      <th>Final_Exam_Score</th>\n",
       "      <th>Pass_Fail</th>\n",
       "    </tr>\n",
       "  </thead>\n",
       "  <tbody>\n",
       "    <tr>\n",
       "      <th>0</th>\n",
       "      <td>S147</td>\n",
       "      <td>1</td>\n",
       "      <td>31</td>\n",
       "      <td>68.267841</td>\n",
       "      <td>86</td>\n",
       "      <td>High School</td>\n",
       "      <td>1</td>\n",
       "      <td>1</td>\n",
       "      <td>63</td>\n",
       "      <td>1</td>\n",
       "    </tr>\n",
       "    <tr>\n",
       "      <th>1</th>\n",
       "      <td>S136</td>\n",
       "      <td>1</td>\n",
       "      <td>16</td>\n",
       "      <td>78.222927</td>\n",
       "      <td>73</td>\n",
       "      <td>PhD</td>\n",
       "      <td>0</td>\n",
       "      <td>0</td>\n",
       "      <td>50</td>\n",
       "      <td>0</td>\n",
       "    </tr>\n",
       "    <tr>\n",
       "      <th>2</th>\n",
       "      <td>S209</td>\n",
       "      <td>0</td>\n",
       "      <td>21</td>\n",
       "      <td>87.525096</td>\n",
       "      <td>74</td>\n",
       "      <td>PhD</td>\n",
       "      <td>1</td>\n",
       "      <td>0</td>\n",
       "      <td>55</td>\n",
       "      <td>0</td>\n",
       "    </tr>\n",
       "    <tr>\n",
       "      <th>3</th>\n",
       "      <td>S458</td>\n",
       "      <td>0</td>\n",
       "      <td>27</td>\n",
       "      <td>92.076483</td>\n",
       "      <td>99</td>\n",
       "      <td>Bachelors</td>\n",
       "      <td>0</td>\n",
       "      <td>0</td>\n",
       "      <td>65</td>\n",
       "      <td>1</td>\n",
       "    </tr>\n",
       "    <tr>\n",
       "      <th>4</th>\n",
       "      <td>S078</td>\n",
       "      <td>0</td>\n",
       "      <td>37</td>\n",
       "      <td>98.655517</td>\n",
       "      <td>63</td>\n",
       "      <td>Masters</td>\n",
       "      <td>0</td>\n",
       "      <td>1</td>\n",
       "      <td>70</td>\n",
       "      <td>1</td>\n",
       "    </tr>\n",
       "  </tbody>\n",
       "</table>\n",
       "</div>"
      ],
      "text/plain": [
       "  Student_ID  Gender  Study_Hours_per_Week  Attendance_Rate  Past_Exam_Scores  \\\n",
       "0       S147       1                    31        68.267841                86   \n",
       "1       S136       1                    16        78.222927                73   \n",
       "2       S209       0                    21        87.525096                74   \n",
       "3       S458       0                    27        92.076483                99   \n",
       "4       S078       0                    37        98.655517                63   \n",
       "\n",
       "  Parental_Education_Level  Internet_Access_at_Home  \\\n",
       "0              High School                        1   \n",
       "1                      PhD                        0   \n",
       "2                      PhD                        1   \n",
       "3                Bachelors                        0   \n",
       "4                  Masters                        0   \n",
       "\n",
       "   Extracurricular_Activities  Final_Exam_Score  Pass_Fail  \n",
       "0                           1                63          1  \n",
       "1                           0                50          0  \n",
       "2                           0                55          0  \n",
       "3                           0                65          1  \n",
       "4                           1                70          1  "
      ]
     },
     "execution_count": 15,
     "metadata": {},
     "output_type": "execute_result"
    }
   ],
   "source": [
    "binary_cols=['Internet_Access_at_Home','Extracurricular_Activities','Pass_Fail',\"Gender\"]\n",
    "\n",
    "# Binary Features Encoding\n",
    "for col in binary_cols:\n",
    "    data[col]=data[col].map({'Yes':1,'No':0,'Pass':1,'Fail':0,'Male':1,'Female':0})\n",
    "    \n",
    "data.head()"
   ]
  },
  {
   "cell_type": "markdown",
   "id": "f512d8f2",
   "metadata": {},
   "source": [
    "# Multi Categories Features Encoding "
   ]
  },
  {
   "cell_type": "code",
   "execution_count": 16,
   "id": "b31547a8",
   "metadata": {},
   "outputs": [
    {
     "data": {
      "application/vnd.microsoft.datawrangler.viewer.v0+json": {
       "columns": [
        {
         "name": "index",
         "rawType": "int64",
         "type": "integer"
        },
        {
         "name": "Student_ID",
         "rawType": "object",
         "type": "string"
        },
        {
         "name": "Gender",
         "rawType": "int64",
         "type": "integer"
        },
        {
         "name": "Study_Hours_per_Week",
         "rawType": "int64",
         "type": "integer"
        },
        {
         "name": "Attendance_Rate",
         "rawType": "float64",
         "type": "float"
        },
        {
         "name": "Past_Exam_Scores",
         "rawType": "int64",
         "type": "integer"
        },
        {
         "name": "Internet_Access_at_Home",
         "rawType": "int64",
         "type": "integer"
        },
        {
         "name": "Extracurricular_Activities",
         "rawType": "int64",
         "type": "integer"
        },
        {
         "name": "Final_Exam_Score",
         "rawType": "int64",
         "type": "integer"
        },
        {
         "name": "Pass_Fail",
         "rawType": "int64",
         "type": "integer"
        },
        {
         "name": "Parental_Education_Level_High School",
         "rawType": "int32",
         "type": "integer"
        },
        {
         "name": "Parental_Education_Level_Masters",
         "rawType": "int32",
         "type": "integer"
        },
        {
         "name": "Parental_Education_Level_PhD",
         "rawType": "int32",
         "type": "integer"
        }
       ],
       "ref": "11b6cf13-bfec-4b46-8387-b3a3e92517ba",
       "rows": [
        [
         "0",
         "S147",
         "1",
         "31",
         "68.26784098370288",
         "86",
         "1",
         "1",
         "63",
         "1",
         "1",
         "0",
         "0"
        ],
        [
         "1",
         "S136",
         "1",
         "16",
         "78.22292712613206",
         "73",
         "0",
         "0",
         "50",
         "0",
         "0",
         "0",
         "1"
        ],
        [
         "2",
         "S209",
         "0",
         "21",
         "87.52509623826568",
         "74",
         "1",
         "0",
         "55",
         "0",
         "0",
         "0",
         "1"
        ],
        [
         "3",
         "S458",
         "0",
         "27",
         "92.07648301550216",
         "99",
         "0",
         "0",
         "65",
         "1",
         "0",
         "0",
         "0"
        ],
        [
         "4",
         "S078",
         "0",
         "37",
         "98.65551746350522",
         "63",
         "0",
         "1",
         "70",
         "1",
         "0",
         "1",
         "0"
        ]
       ],
       "shape": {
        "columns": 12,
        "rows": 5
       }
      },
      "text/html": [
       "<div>\n",
       "<style scoped>\n",
       "    .dataframe tbody tr th:only-of-type {\n",
       "        vertical-align: middle;\n",
       "    }\n",
       "\n",
       "    .dataframe tbody tr th {\n",
       "        vertical-align: top;\n",
       "    }\n",
       "\n",
       "    .dataframe thead th {\n",
       "        text-align: right;\n",
       "    }\n",
       "</style>\n",
       "<table border=\"1\" class=\"dataframe\">\n",
       "  <thead>\n",
       "    <tr style=\"text-align: right;\">\n",
       "      <th></th>\n",
       "      <th>Student_ID</th>\n",
       "      <th>Gender</th>\n",
       "      <th>Study_Hours_per_Week</th>\n",
       "      <th>Attendance_Rate</th>\n",
       "      <th>Past_Exam_Scores</th>\n",
       "      <th>Internet_Access_at_Home</th>\n",
       "      <th>Extracurricular_Activities</th>\n",
       "      <th>Final_Exam_Score</th>\n",
       "      <th>Pass_Fail</th>\n",
       "      <th>Parental_Education_Level_High School</th>\n",
       "      <th>Parental_Education_Level_Masters</th>\n",
       "      <th>Parental_Education_Level_PhD</th>\n",
       "    </tr>\n",
       "  </thead>\n",
       "  <tbody>\n",
       "    <tr>\n",
       "      <th>0</th>\n",
       "      <td>S147</td>\n",
       "      <td>1</td>\n",
       "      <td>31</td>\n",
       "      <td>68.267841</td>\n",
       "      <td>86</td>\n",
       "      <td>1</td>\n",
       "      <td>1</td>\n",
       "      <td>63</td>\n",
       "      <td>1</td>\n",
       "      <td>1</td>\n",
       "      <td>0</td>\n",
       "      <td>0</td>\n",
       "    </tr>\n",
       "    <tr>\n",
       "      <th>1</th>\n",
       "      <td>S136</td>\n",
       "      <td>1</td>\n",
       "      <td>16</td>\n",
       "      <td>78.222927</td>\n",
       "      <td>73</td>\n",
       "      <td>0</td>\n",
       "      <td>0</td>\n",
       "      <td>50</td>\n",
       "      <td>0</td>\n",
       "      <td>0</td>\n",
       "      <td>0</td>\n",
       "      <td>1</td>\n",
       "    </tr>\n",
       "    <tr>\n",
       "      <th>2</th>\n",
       "      <td>S209</td>\n",
       "      <td>0</td>\n",
       "      <td>21</td>\n",
       "      <td>87.525096</td>\n",
       "      <td>74</td>\n",
       "      <td>1</td>\n",
       "      <td>0</td>\n",
       "      <td>55</td>\n",
       "      <td>0</td>\n",
       "      <td>0</td>\n",
       "      <td>0</td>\n",
       "      <td>1</td>\n",
       "    </tr>\n",
       "    <tr>\n",
       "      <th>3</th>\n",
       "      <td>S458</td>\n",
       "      <td>0</td>\n",
       "      <td>27</td>\n",
       "      <td>92.076483</td>\n",
       "      <td>99</td>\n",
       "      <td>0</td>\n",
       "      <td>0</td>\n",
       "      <td>65</td>\n",
       "      <td>1</td>\n",
       "      <td>0</td>\n",
       "      <td>0</td>\n",
       "      <td>0</td>\n",
       "    </tr>\n",
       "    <tr>\n",
       "      <th>4</th>\n",
       "      <td>S078</td>\n",
       "      <td>0</td>\n",
       "      <td>37</td>\n",
       "      <td>98.655517</td>\n",
       "      <td>63</td>\n",
       "      <td>0</td>\n",
       "      <td>1</td>\n",
       "      <td>70</td>\n",
       "      <td>1</td>\n",
       "      <td>0</td>\n",
       "      <td>1</td>\n",
       "      <td>0</td>\n",
       "    </tr>\n",
       "  </tbody>\n",
       "</table>\n",
       "</div>"
      ],
      "text/plain": [
       "  Student_ID  Gender  Study_Hours_per_Week  Attendance_Rate  Past_Exam_Scores  \\\n",
       "0       S147       1                    31        68.267841                86   \n",
       "1       S136       1                    16        78.222927                73   \n",
       "2       S209       0                    21        87.525096                74   \n",
       "3       S458       0                    27        92.076483                99   \n",
       "4       S078       0                    37        98.655517                63   \n",
       "\n",
       "   Internet_Access_at_Home  Extracurricular_Activities  Final_Exam_Score  \\\n",
       "0                        1                           1                63   \n",
       "1                        0                           0                50   \n",
       "2                        1                           0                55   \n",
       "3                        0                           0                65   \n",
       "4                        0                           1                70   \n",
       "\n",
       "   Pass_Fail  Parental_Education_Level_High School  \\\n",
       "0          1                                     1   \n",
       "1          0                                     0   \n",
       "2          0                                     0   \n",
       "3          1                                     0   \n",
       "4          1                                     0   \n",
       "\n",
       "   Parental_Education_Level_Masters  Parental_Education_Level_PhD  \n",
       "0                                 0                             0  \n",
       "1                                 0                             1  \n",
       "2                                 0                             1  \n",
       "3                                 0                             0  \n",
       "4                                 1                             0  "
      ]
     },
     "execution_count": 16,
     "metadata": {},
     "output_type": "execute_result"
    }
   ],
   "source": [
    "# from sklearn.preprocessing import OneHotEncoder\n",
    "\n",
    "# encoder=OneHotEncoder(sparse_output=False,drop='first')\n",
    "# encoded_features=encoder.fit_transform(data[['Parental_Education_Level']])\n",
    "\n",
    "# encoded_df=pd.DataFrame(encoded_features,columns=encoder.get_feature_names_out(['Parental_Education_Level']))\n",
    "\n",
    "\n",
    "# data=pd.concat([data,encoded_df],axis=1).drop('Parental_Education_Level',axis=1)\n",
    "# data.head()\n",
    "\n",
    "\n",
    "#########################################\n",
    "\n",
    "\n",
    "data_encoded=pd.get_dummies(data,columns=['Parental_Education_Level'],drop_first=True,dtype=int)\n",
    "data_encoded.head()"
   ]
  },
  {
   "cell_type": "markdown",
   "id": "2990ea29",
   "metadata": {},
   "source": [
    "# Removing unimportant features"
   ]
  },
  {
   "cell_type": "code",
   "execution_count": 17,
   "id": "ad1620b0",
   "metadata": {},
   "outputs": [
    {
     "data": {
      "application/vnd.microsoft.datawrangler.viewer.v0+json": {
       "columns": [
        {
         "name": "index",
         "rawType": "int64",
         "type": "integer"
        },
        {
         "name": "Gender",
         "rawType": "int64",
         "type": "integer"
        },
        {
         "name": "Study_Hours_per_Week",
         "rawType": "int64",
         "type": "integer"
        },
        {
         "name": "Attendance_Rate",
         "rawType": "float64",
         "type": "float"
        },
        {
         "name": "Past_Exam_Scores",
         "rawType": "int64",
         "type": "integer"
        },
        {
         "name": "Internet_Access_at_Home",
         "rawType": "int64",
         "type": "integer"
        },
        {
         "name": "Extracurricular_Activities",
         "rawType": "int64",
         "type": "integer"
        },
        {
         "name": "Final_Exam_Score",
         "rawType": "int64",
         "type": "integer"
        },
        {
         "name": "Pass_Fail",
         "rawType": "int64",
         "type": "integer"
        },
        {
         "name": "Parental_Education_Level_High School",
         "rawType": "int32",
         "type": "integer"
        },
        {
         "name": "Parental_Education_Level_Masters",
         "rawType": "int32",
         "type": "integer"
        },
        {
         "name": "Parental_Education_Level_PhD",
         "rawType": "int32",
         "type": "integer"
        }
       ],
       "ref": "2c49b212-f1f1-4104-844d-7c95f0af64da",
       "rows": [
        [
         "0",
         "1",
         "31",
         "68.26784098370288",
         "86",
         "1",
         "1",
         "63",
         "1",
         "1",
         "0",
         "0"
        ],
        [
         "1",
         "1",
         "16",
         "78.22292712613206",
         "73",
         "0",
         "0",
         "50",
         "0",
         "0",
         "0",
         "1"
        ],
        [
         "2",
         "0",
         "21",
         "87.52509623826568",
         "74",
         "1",
         "0",
         "55",
         "0",
         "0",
         "0",
         "1"
        ],
        [
         "3",
         "0",
         "27",
         "92.07648301550216",
         "99",
         "0",
         "0",
         "65",
         "1",
         "0",
         "0",
         "0"
        ],
        [
         "4",
         "0",
         "37",
         "98.65551746350522",
         "63",
         "0",
         "1",
         "70",
         "1",
         "0",
         "1",
         "0"
        ]
       ],
       "shape": {
        "columns": 11,
        "rows": 5
       }
      },
      "text/html": [
       "<div>\n",
       "<style scoped>\n",
       "    .dataframe tbody tr th:only-of-type {\n",
       "        vertical-align: middle;\n",
       "    }\n",
       "\n",
       "    .dataframe tbody tr th {\n",
       "        vertical-align: top;\n",
       "    }\n",
       "\n",
       "    .dataframe thead th {\n",
       "        text-align: right;\n",
       "    }\n",
       "</style>\n",
       "<table border=\"1\" class=\"dataframe\">\n",
       "  <thead>\n",
       "    <tr style=\"text-align: right;\">\n",
       "      <th></th>\n",
       "      <th>Gender</th>\n",
       "      <th>Study_Hours_per_Week</th>\n",
       "      <th>Attendance_Rate</th>\n",
       "      <th>Past_Exam_Scores</th>\n",
       "      <th>Internet_Access_at_Home</th>\n",
       "      <th>Extracurricular_Activities</th>\n",
       "      <th>Final_Exam_Score</th>\n",
       "      <th>Pass_Fail</th>\n",
       "      <th>Parental_Education_Level_High School</th>\n",
       "      <th>Parental_Education_Level_Masters</th>\n",
       "      <th>Parental_Education_Level_PhD</th>\n",
       "    </tr>\n",
       "  </thead>\n",
       "  <tbody>\n",
       "    <tr>\n",
       "      <th>0</th>\n",
       "      <td>1</td>\n",
       "      <td>31</td>\n",
       "      <td>68.267841</td>\n",
       "      <td>86</td>\n",
       "      <td>1</td>\n",
       "      <td>1</td>\n",
       "      <td>63</td>\n",
       "      <td>1</td>\n",
       "      <td>1</td>\n",
       "      <td>0</td>\n",
       "      <td>0</td>\n",
       "    </tr>\n",
       "    <tr>\n",
       "      <th>1</th>\n",
       "      <td>1</td>\n",
       "      <td>16</td>\n",
       "      <td>78.222927</td>\n",
       "      <td>73</td>\n",
       "      <td>0</td>\n",
       "      <td>0</td>\n",
       "      <td>50</td>\n",
       "      <td>0</td>\n",
       "      <td>0</td>\n",
       "      <td>0</td>\n",
       "      <td>1</td>\n",
       "    </tr>\n",
       "    <tr>\n",
       "      <th>2</th>\n",
       "      <td>0</td>\n",
       "      <td>21</td>\n",
       "      <td>87.525096</td>\n",
       "      <td>74</td>\n",
       "      <td>1</td>\n",
       "      <td>0</td>\n",
       "      <td>55</td>\n",
       "      <td>0</td>\n",
       "      <td>0</td>\n",
       "      <td>0</td>\n",
       "      <td>1</td>\n",
       "    </tr>\n",
       "    <tr>\n",
       "      <th>3</th>\n",
       "      <td>0</td>\n",
       "      <td>27</td>\n",
       "      <td>92.076483</td>\n",
       "      <td>99</td>\n",
       "      <td>0</td>\n",
       "      <td>0</td>\n",
       "      <td>65</td>\n",
       "      <td>1</td>\n",
       "      <td>0</td>\n",
       "      <td>0</td>\n",
       "      <td>0</td>\n",
       "    </tr>\n",
       "    <tr>\n",
       "      <th>4</th>\n",
       "      <td>0</td>\n",
       "      <td>37</td>\n",
       "      <td>98.655517</td>\n",
       "      <td>63</td>\n",
       "      <td>0</td>\n",
       "      <td>1</td>\n",
       "      <td>70</td>\n",
       "      <td>1</td>\n",
       "      <td>0</td>\n",
       "      <td>1</td>\n",
       "      <td>0</td>\n",
       "    </tr>\n",
       "  </tbody>\n",
       "</table>\n",
       "</div>"
      ],
      "text/plain": [
       "   Gender  Study_Hours_per_Week  Attendance_Rate  Past_Exam_Scores  \\\n",
       "0       1                    31        68.267841                86   \n",
       "1       1                    16        78.222927                73   \n",
       "2       0                    21        87.525096                74   \n",
       "3       0                    27        92.076483                99   \n",
       "4       0                    37        98.655517                63   \n",
       "\n",
       "   Internet_Access_at_Home  Extracurricular_Activities  Final_Exam_Score  \\\n",
       "0                        1                           1                63   \n",
       "1                        0                           0                50   \n",
       "2                        1                           0                55   \n",
       "3                        0                           0                65   \n",
       "4                        0                           1                70   \n",
       "\n",
       "   Pass_Fail  Parental_Education_Level_High School  \\\n",
       "0          1                                     1   \n",
       "1          0                                     0   \n",
       "2          0                                     0   \n",
       "3          1                                     0   \n",
       "4          1                                     0   \n",
       "\n",
       "   Parental_Education_Level_Masters  Parental_Education_Level_PhD  \n",
       "0                                 0                             0  \n",
       "1                                 0                             1  \n",
       "2                                 0                             1  \n",
       "3                                 0                             0  \n",
       "4                                 1                             0  "
      ]
     },
     "execution_count": 17,
     "metadata": {},
     "output_type": "execute_result"
    }
   ],
   "source": [
    "df_encoded=data_encoded.drop('Student_ID',axis=1)\n",
    "df_encoded.head()"
   ]
  },
  {
   "cell_type": "markdown",
   "id": "e2da1560",
   "metadata": {},
   "source": [
    "# Train_Test_Split"
   ]
  },
  {
   "cell_type": "code",
   "execution_count": 23,
   "id": "628a0490",
   "metadata": {},
   "outputs": [
    {
     "name": "stdout",
     "output_type": "stream",
     "text": [
      "(708, 10)\n",
      "(708, 1)\n"
     ]
    }
   ],
   "source": [
    "from sklearn.model_selection import train_test_split\n",
    "\n",
    "X=df_encoded.drop('Final_Exam_Score',axis=1)\n",
    "y=df_encoded['Final_Exam_Score'].values.reshape(-1, 1)\n",
    "\n",
    "print(X.shape)\n",
    "print(y.shape)\n",
    "\n",
    "X_train,X_test,y_train,y_test=train_test_split(X,y,test_size=0.2,random_state=42)"
   ]
  },
  {
   "cell_type": "markdown",
   "id": "e828ac9e",
   "metadata": {},
   "source": [
    "# Model Training "
   ]
  },
  {
   "cell_type": "code",
   "execution_count": null,
   "id": "44ce94da",
   "metadata": {},
   "outputs": [
    {
     "name": "stdout",
     "output_type": "stream",
     "text": [
      "Mean Squared Error: 6.801673628992022\n",
      "R^2 Score: 0.8401298239083281\n"
     ]
    }
   ],
   "source": [
    "from sklearn.linear_model import LinearRegression\n",
    "from sklearn.metrics import mean_squared_error, r2_score\n",
    "\n",
    "reg=LinearRegression()\n",
    "reg.fit(X_train,y_train)\n",
    "y_pred=reg.predict(X_test)\n",
    "mse=mean_squared_error(y_test,y_pred)\n",
    "r2=r2_score(y_test,y_pred)\n",
    "\n",
    "print(f\"Mean Squared Error: {mse}\")\n",
    "print(f\"R^2 Score: {r2}\")\n"
   ]
  },
  {
   "cell_type": "markdown",
   "id": "380e87d7",
   "metadata": {},
   "source": [
    "# KFold "
   ]
  },
  {
   "cell_type": "code",
   "execution_count": null,
   "id": "385555e1",
   "metadata": {},
   "outputs": [
    {
     "name": "stdout",
     "output_type": "stream",
     "text": [
      "Cross-validated R^2 scores: [0.75988966 0.81000855 0.81379807 0.79441276 0.82454968 0.83385798]\n"
     ]
    }
   ],
   "source": [
    "from sklearn.model_selection import KFold , cross_val_score\n",
    "\n",
    "kfFold=KFold(n_splits=6,shuffle=True,random_state=42)\n",
    "\n",
    "linear_scores=cross_val_score(reg,X_train,y_train,cv=kfFold,scoring='r2')\n",
    "\n",
    "print(\"Cross-validated R^2 scores:\", linear_scores)\n"
   ]
  },
  {
   "cell_type": "markdown",
   "id": "17076098",
   "metadata": {},
   "source": [
    "# Ridge Regression \n"
   ]
  },
  {
   "cell_type": "code",
   "execution_count": 27,
   "id": "862029f0",
   "metadata": {},
   "outputs": [
    {
     "name": "stdout",
     "output_type": "stream",
     "text": [
      "Ridge Regression (alpha=0.1): Mean R^2 Score = 0.8060930236456799\n",
      "Ridge Regression (alpha=1.0): Mean R^2 Score = 0.8061052964940328\n",
      "Ridge Regression (alpha=10.0): Mean R^2 Score = 0.8025574926471982\n",
      "Ridge Regression (alpha=100.0): Mean R^2 Score = 0.7238345997954098\n",
      "Best alpha for Ridge Regression: 1.0\n"
     ]
    }
   ],
   "source": [
    "from sklearn.linear_model import Ridge , Lasso \n",
    "\n",
    "alphas=[0.1,1.0,10.0,100.0]\n",
    "ridge_scores={}\n",
    "\n",
    "for alpha in alphas:\n",
    "    ridge=Ridge(alpha=alpha)\n",
    "    scores=cross_val_score(ridge,X_train,y_train,cv=kfFold,scoring='r2')\n",
    "    ridge_scores[alpha]=scores.mean()\n",
    "    print(f\"Ridge Regression (alpha={alpha}): Mean R^2 Score = {scores.mean()}\")\n",
    "    \n",
    "best_alpha_ridge=max(ridge_scores,key=ridge_scores.get)\n",
    "print(f\"Best alpha for Ridge Regression: {best_alpha_ridge}\")    \n",
    "    "
   ]
  },
  {
   "cell_type": "markdown",
   "id": "1df5c04a",
   "metadata": {},
   "source": [
    "# Lasso Regression "
   ]
  },
  {
   "cell_type": "code",
   "execution_count": null,
   "id": "c53b4ec6",
   "metadata": {},
   "outputs": [
    {
     "name": "stdout",
     "output_type": "stream",
     "text": [
      "Lasso Regression (alpha=0.1): Mean R^2 Score = 0.8054623443074672\n",
      "Lasso Regression (alpha=1.0): Mean R^2 Score = 0.6605937354304275\n",
      "Lasso Regression (alpha=10.0): Mean R^2 Score = 0.5171820670604511\n",
      "Lasso Regression (alpha=100.0): Mean R^2 Score = -0.014708894901963846\n",
      "Best alpha for Lasso Regression: 0.1\n"
     ]
    }
   ],
   "source": [
    "lasso_scores={}\n",
    "\n",
    "for alpha in alphas:\n",
    "    lasso=Lasso(alpha=alpha)\n",
    "    scores=cross_val_score(lasso,X_train,y_train,cv=kfFold,scoring='r2')\n",
    "    lasso_scores[alpha]=scores.mean()\n",
    "    print(f\"Lasso Regression (alpha={alpha}): Mean R^2 Score = {scores.mean()}\")\n",
    "    \n",
    "best_lasso_alpha=max(lasso_scores,key=lasso_scores.get)\n",
    "print(f'Best alpha for Lasso Regression: {best_lasso_alpha}')    "
   ]
  },
  {
   "cell_type": "markdown",
   "id": "56e93bea",
   "metadata": {},
   "source": [
    "# Comparisons "
   ]
  },
  {
   "cell_type": "code",
   "execution_count": 29,
   "id": "ce76eb55",
   "metadata": {},
   "outputs": [
    {
     "name": "stdout",
     "output_type": "stream",
     "text": [
      "\n",
      "Model Comparison:\n",
      "                   CV R² Mean  CV R² Std  Test R²  Test MSE\n",
      "Linear Regression      0.8061     0.0240   0.8401    6.8017\n",
      "Ridge                  0.8061     0.0237   0.8404    6.7897\n",
      "Lasso                  0.8055     0.0224   0.8449    6.5984\n"
     ]
    }
   ],
   "source": [
    "# Train final models with best parameters\n",
    "models = {\n",
    "    'Linear Regression': LinearRegression(),\n",
    "    'Ridge': Ridge(alpha=best_alpha_ridge),\n",
    "    'Lasso': Lasso(alpha=best_lasso_alpha, max_iter=1000)\n",
    "}\n",
    "\n",
    "# Compare all models\n",
    "results = {}\n",
    "for name, model in models.items():\n",
    "    # Cross-validation scores\n",
    "    cv_scores = cross_val_score(model, X_train, y_train, cv=kfFold, scoring='r2')\n",
    "    \n",
    "    # Fit and test on hold-out set\n",
    "    model.fit(X_train, y_train)\n",
    "    test_pred = model.predict(X_test)\n",
    "    test_r2 = r2_score(y_test, test_pred)\n",
    "    test_mse = mean_squared_error(y_test, test_pred)\n",
    "    \n",
    "    results[name] = {\n",
    "        'CV R² Mean': cv_scores.mean(),\n",
    "        'CV R² Std': cv_scores.std(),\n",
    "        'Test R²': test_r2,\n",
    "        'Test MSE': test_mse\n",
    "    }\n",
    "\n",
    "# Display results\n",
    "import pandas as pd\n",
    "results_df = pd.DataFrame(results).T\n",
    "print(\"\\nModel Comparison:\")\n",
    "print(results_df.round(4))\n"
   ]
  }
 ],
 "metadata": {
  "kernelspec": {
   "display_name": "Trial1",
   "language": "python",
   "name": "python3"
  },
  "language_info": {
   "codemirror_mode": {
    "name": "ipython",
    "version": 3
   },
   "file_extension": ".py",
   "mimetype": "text/x-python",
   "name": "python",
   "nbconvert_exporter": "python",
   "pygments_lexer": "ipython3",
   "version": "3.10.13"
  }
 },
 "nbformat": 4,
 "nbformat_minor": 5
}
